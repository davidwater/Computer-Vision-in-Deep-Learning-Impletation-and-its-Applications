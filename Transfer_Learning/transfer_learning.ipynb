{
  "cells": [
    {
      "cell_type": "markdown",
      "metadata": {
        "id": "W_MzBL-U79ed"
      },
      "source": [
        "## 掛接 Google Drive"
      ]
    },
    {
      "cell_type": "code",
      "execution_count": 16,
      "metadata": {
        "colab": {
          "base_uri": "https://localhost:8080/"
        },
        "id": "lc6AdLn27pht",
        "outputId": "49c57868-c203-44da-c22d-8ca0f3248a67"
      },
      "outputs": [
        {
          "output_type": "stream",
          "name": "stdout",
          "text": [
            "Drive already mounted at /content/drive; to attempt to forcibly remount, call drive.mount(\"/content/drive\", force_remount=True).\n"
          ]
        }
      ],
      "source": [
        "# connect to your google drive\n",
        "from google.colab import drive\n",
        "drive.mount('/content/drive')"
      ]
    },
    {
      "cell_type": "code",
      "execution_count": 17,
      "metadata": {
        "colab": {
          "base_uri": "https://localhost:8080/"
        },
        "id": "eLxl1IR0DxdD",
        "outputId": "59b319ce-2887-4284-9868-cab1918f5231"
      },
      "outputs": [
        {
          "output_type": "stream",
          "name": "stdout",
          "text": [
            "/content/drive/MyDrive/Colab Notebooks/2022cvdl_practice_HW3\n"
          ]
        }
      ],
      "source": [
        "%cd '/content/drive/MyDrive/Colab Notebooks/2022cvdl_practice_HW3'"
      ]
    },
    {
      "cell_type": "code",
      "execution_count": 18,
      "metadata": {
        "id": "zN7cQyNuBJ7W"
      },
      "outputs": [],
      "source": [
        "import matplotlib.pyplot as plt\n",
        "import os\n",
        "import numpy as np\n",
        "import tensorflow as tf\n",
        "import cv2"
      ]
    },
    {
      "cell_type": "markdown",
      "metadata": {
        "id": "CxZV4Uy7sxmS"
      },
      "source": [
        "## 載入資料"
      ]
    },
    {
      "cell_type": "code",
      "execution_count": 19,
      "metadata": {
        "colab": {
          "base_uri": "https://localhost:8080/"
        },
        "id": "HXW74XDz8PF5",
        "outputId": "f403bb0f-619d-49f4-eaac-a8bcf5901575"
      },
      "outputs": [
        {
          "output_type": "execute_result",
          "data": {
            "text/plain": [
              "['sample_submission.csv',\n",
              " 'category.xlsx',\n",
              " 'stanford_dogs.zip',\n",
              " 'CILSHW3.ipynb',\n",
              " 'stanfor_dogs',\n",
              " 'prediction_v1.csv',\n",
              " 'prediction_v2.csv',\n",
              " 'prediction_v3.csv',\n",
              " 'prediction_v4.csv',\n",
              " 'prediction_v5.csv',\n",
              " 'prediction_v6.csv',\n",
              " 'F44076241_水修澤_HW3.ipynb',\n",
              " 'prediction_v7.csv',\n",
              " 'prediction_v8.csv',\n",
              " 'model.png',\n",
              " 'prediction_v9.csv',\n",
              " 'Copy of F44076241_水修澤_HW3.ipynb']"
            ]
          },
          "metadata": {},
          "execution_count": 19
        }
      ],
      "source": [
        "# 確認壓縮檔路徑\n",
        "filepath='/content/drive/MyDrive/Colab Notebooks/2022cvdl_practice_HW3'\n",
        "os.listdir(filepath)"
      ]
    },
    {
      "cell_type": "code",
      "execution_count": 20,
      "metadata": {
        "id": "IUVKLv-J8pj6"
      },
      "outputs": [],
      "source": [
        "# 解壓縮檔案\n",
        "# !unzip '/content/drive/MyDrive/Colab Notebooks/2022cvdl_practice_HW3/stanford_dogs.zip' -d '/content/drive/MyDrive/Colab Notebooks/2022cvdl_practice_HW3'"
      ]
    },
    {
      "cell_type": "code",
      "execution_count": 21,
      "metadata": {
        "colab": {
          "base_uri": "https://localhost:8080/"
        },
        "id": "7xgbhSqNA9QR",
        "outputId": "aa1d46f9-7147-468c-ac24-a5b8f61d7c78"
      },
      "outputs": [
        {
          "output_type": "execute_result",
          "data": {
            "text/plain": [
              "['train', 'test']"
            ]
          },
          "metadata": {},
          "execution_count": 21
        }
      ],
      "source": [
        "dirpath='/content/drive/MyDrive/Colab Notebooks/2022cvdl_practice_HW3/stanfor_dogs/'\n",
        "os.listdir(dirpath) "
      ]
    },
    {
      "cell_type": "code",
      "execution_count": 22,
      "metadata": {
        "colab": {
          "base_uri": "https://localhost:8080/"
        },
        "id": "5c-uwiG7_wP1",
        "outputId": "8c7ebdeb-8c78-48ef-985b-a4067dc02e79"
      },
      "outputs": [
        {
          "output_type": "stream",
          "name": "stdout",
          "text": [
            "Found 8400 images belonging to 120 classes.\n",
            "Found 3600 images belonging to 120 classes.\n",
            "Found 8580 images belonging to 1 classes.\n"
          ]
        }
      ],
      "source": [
        "from keras.applications.inception_v3 import preprocess_input\n",
        "from keras.preprocessing.image import ImageDataGenerator\n",
        "\n",
        "imgSize=(224,224)\n",
        "imgShape=(224,224,3)\n",
        "batchSize=64\n",
        "\n",
        "# train generator\n",
        "trainDataGenerator = ImageDataGenerator(rescale = 1/255,\n",
        "                      # augmentation\n",
        "                      rotation_range = 40,\n",
        "                      width_shift_range = 0.2,\n",
        "                      height_shift_range = 0.2,\n",
        "                      shear_range = 0.3,\n",
        "                      zoom_range = 0.2,\n",
        "                      horizontal_flip = True,\n",
        "                      validation_split=0.3)\n",
        "valDataGenerator = ImageDataGenerator(rescale=1/255,validation_split=0.3)\n",
        "\n",
        "trainBatch = trainDataGenerator.flow_from_directory(\n",
        "    directory = dirpath+'train',\n",
        "    target_size = imgSize,\n",
        "    class_mode = 'categorical',\n",
        "    shuffle = True,\n",
        "    batch_size = batchSize,\n",
        "    subset='training'\n",
        ")\n",
        "\n",
        "valBatch = valDataGenerator.flow_from_directory(\n",
        "    directory = dirpath+'train',\n",
        "    target_size = imgSize,\n",
        "    class_mode = 'categorical',\n",
        "    shuffle = True,\n",
        "    batch_size = batchSize,\n",
        "    subset='validation'\n",
        ")\n",
        "\n",
        "# test generator\n",
        "testDataGenerator = ImageDataGenerator(rescale=1/255)\n",
        "\n",
        "testBatch = testDataGenerator.flow_from_directory(\n",
        "    dirpath,\n",
        "    class_mode=None,\n",
        "    batch_size=1,\n",
        "    shuffle = False,\n",
        "    target_size= imgSize,\n",
        "    classes=['test']\n",
        ")\n"
      ]
    },
    {
      "cell_type": "markdown",
      "metadata": {
        "id": "B52WxNJ_t4ty"
      },
      "source": [
        "## 載入模型"
      ]
    },
    {
      "cell_type": "code",
      "execution_count": 35,
      "metadata": {
        "id": "WrKYaA-MSJo7"
      },
      "outputs": [],
      "source": [
        "# Build Model Using Pre-trained Model\n",
        "\n",
        "from keras import models\n",
        "from keras import layers\n",
        "from tensorflow.keras.optimizers import Adam\n",
        "from tensorflow.keras.layers import GlobalAveragePooling2D, Dense, Flatten, Dropout\n",
        "from tensorflow.keras.applications import InceptionV3\n",
        "from tensorflow.keras.applications import InceptionResNetV2\n",
        "from tensorflow.keras.utils import to_categorical\n",
        "from tensorflow.keras.utils import plot_model\n",
        "\n",
        "# load InceptionV3 pre-trained model\n",
        "base_model = InceptionResNetV2(weights = 'imagenet', include_top = False, input_shape = (224,224,3))\n",
        "\n",
        "model = models.Sequential()\n",
        "model.add(base_model) # add pre_trained layers\n",
        "model.add(GlobalAveragePooling2D())\n",
        "#model.add(Flatten()) # flatten to 1-D vector to prepare for fully connected layers\n",
        "model.add(Dropout(0.3))\n",
        "model.add(Dense(512, activation = 'relu'))\n",
        "model.add(Dense(512, activation = 'relu'))\n",
        "model.add(Dense(120, activation = 'softmax'))\n",
        "\n",
        "# Freeze pre-trained layers\n",
        "model.layers[0].trainable = False"
      ]
    },
    {
      "cell_type": "code",
      "execution_count": 36,
      "metadata": {
        "colab": {
          "base_uri": "https://localhost:8080/"
        },
        "id": "-Kgx4Cqnd9HG",
        "outputId": "30930027-4308-4a97-d798-d650e2bf3dcc"
      },
      "outputs": [
        {
          "output_type": "stream",
          "name": "stdout",
          "text": [
            "Model: \"sequential_3\"\n",
            "_________________________________________________________________\n",
            " Layer (type)                Output Shape              Param #   \n",
            "=================================================================\n",
            " inception_resnet_v2 (Functi  (None, 5, 5, 1536)       54336736  \n",
            " onal)                                                           \n",
            "                                                                 \n",
            " global_average_pooling2d_3   (None, 1536)             0         \n",
            " (GlobalAveragePooling2D)                                        \n",
            "                                                                 \n",
            " dropout_3 (Dropout)         (None, 1536)              0         \n",
            "                                                                 \n",
            " dense_11 (Dense)            (None, 512)               786944    \n",
            "                                                                 \n",
            " dense_12 (Dense)            (None, 512)               262656    \n",
            "                                                                 \n",
            " dense_13 (Dense)            (None, 120)               61560     \n",
            "                                                                 \n",
            "=================================================================\n",
            "Total params: 55,447,896\n",
            "Trainable params: 1,111,160\n",
            "Non-trainable params: 54,336,736\n",
            "_________________________________________________________________\n"
          ]
        }
      ],
      "source": [
        "model.summary()"
      ]
    },
    {
      "cell_type": "code",
      "execution_count": 37,
      "metadata": {
        "colab": {
          "base_uri": "https://localhost:8080/",
          "height": 754
        },
        "id": "5ijobw7OPIW8",
        "outputId": "66956ecf-e739-409f-a83e-397c9e950223"
      },
      "outputs": [
        {
          "output_type": "execute_result",
          "data": {
            "text/plain": [
              "<IPython.core.display.Image object>"
            ],
            "image/png": "[encoded data removed]"
          },
          "metadata": {},
          "execution_count": 37
        }
      ],
      "source": [
        "plot_model(model, to_file='model.png', show_shapes=True, show_layer_names=True)"
      ]
    },
    {
      "cell_type": "markdown",
      "metadata": {
        "id": "BElIEQVKupvu"
      },
      "source": [
        "## train model"
      ]
    },
    {
      "cell_type": "code",
      "execution_count": 38,
      "metadata": {
        "colab": {
          "base_uri": "https://localhost:8080/"
        },
        "id": "u841XT3j3IbF",
        "outputId": "b799feb3-a7f0-4e6f-98fa-1f5e684903f9"
      },
      "outputs": [
        {
          "output_type": "stream",
          "name": "stdout",
          "text": [
            "Found GPU at: /device:GPU:0\n",
            "Mon May 23 06:21:02 2022       \n",
            "+-----------------------------------------------------------------------------+\n",
            "| NVIDIA-SMI 460.32.03    Driver Version: 460.32.03    CUDA Version: 11.2     |\n",
            "|-------------------------------+----------------------+----------------------+\n",
            "| GPU  Name        Persistence-M| Bus-Id        Disp.A | Volatile Uncorr. ECC |\n",
            "| Fan  Temp  Perf  Pwr:Usage/Cap|         Memory-Usage | GPU-Util  Compute M. |\n",
            "|                               |                      |               MIG M. |\n",
            "|===============================+======================+======================|\n",
            "|   0  Tesla T4            Off  | 00000000:00:04.0 Off |                    0 |\n",
            "| N/A   67C    P0    30W /  70W |   8938MiB / 15109MiB |      0%      Default |\n",
            "|                               |                      |                  N/A |\n",
            "+-------------------------------+----------------------+----------------------+\n",
            "                                                                               \n",
            "+-----------------------------------------------------------------------------+\n",
            "| Processes:                                                                  |\n",
            "|  GPU   GI   CI        PID   Type   Process name                  GPU Memory |\n",
            "|        ID   ID                                                   Usage      |\n",
            "|=============================================================================|\n",
            "|    0   N/A  N/A      2231      C   ...irectoryprefetcher_binary     8935MiB |\n",
            "+-----------------------------------------------------------------------------+\n"
          ]
        }
      ],
      "source": [
        "# GPU acceleration\n",
        "%tensorflow_version 2.x\n",
        "import tensorflow as tf\n",
        "device_name = tf.test.gpu_device_name()\n",
        "if device_name != '/device:GPU:0':\n",
        "  raise SystemError('GPU device not found')\n",
        "print('Found GPU at: {}'.format(device_name))\n",
        "\n",
        "!nvidia-smi"
      ]
    },
    {
      "cell_type": "code",
      "execution_count": 39,
      "metadata": {
        "id": "Bzml7HtGZ4jG"
      },
      "outputs": [],
      "source": [
        "model.compile(optimizer = tf.keras.optimizers.Adam(learning_rate=0.0001),\n",
        "              loss='categorical_crossentropy',\n",
        "              metrics=['accuracy'])"
      ]
    },
    {
      "cell_type": "code",
      "execution_count": 40,
      "metadata": {
        "colab": {
          "base_uri": "https://localhost:8080/"
        },
        "id": "hbPINPi4aWtm",
        "outputId": "053be2bd-3ac8-45b0-e78d-de08e81d211f"
      },
      "outputs": [
        {
          "output_type": "stream",
          "name": "stderr",
          "text": [
            "/usr/local/lib/python3.7/dist-packages/ipykernel_launcher.py:9: UserWarning: `Model.fit_generator` is deprecated and will be removed in a future version. Please use `Model.fit`, which supports generators.\n",
            "  if __name__ == '__main__':\n"
          ]
        },
        {
          "output_type": "stream",
          "name": "stdout",
          "text": [
            "Epoch 1/12\n",
            "131/131 [==============================] - 146s 1s/step - loss: 3.2848 - accuracy: 0.4135 - val_loss: 0.7328 - val_accuracy: 0.8619\n",
            "Epoch 2/12\n",
            "131/131 [==============================] - 132s 1s/step - loss: 0.9574 - accuracy: 0.7546 - val_loss: 0.4154 - val_accuracy: 0.8747\n",
            "Epoch 3/12\n",
            "131/131 [==============================] - 133s 1s/step - loss: 0.7867 - accuracy: 0.7724 - val_loss: 0.3876 - val_accuracy: 0.8836\n",
            "Epoch 4/12\n",
            "131/131 [==============================] - 132s 1s/step - loss: 0.7370 - accuracy: 0.7872 - val_loss: 0.3848 - val_accuracy: 0.8856\n",
            "Epoch 5/12\n",
            "131/131 [==============================] - 133s 1s/step - loss: 0.7269 - accuracy: 0.7898 - val_loss: 0.3803 - val_accuracy: 0.8831\n",
            "Epoch 6/12\n",
            "131/131 [==============================] - 133s 1s/step - loss: 0.7015 - accuracy: 0.7911 - val_loss: 0.3784 - val_accuracy: 0.8839\n",
            "Epoch 7/12\n",
            "131/131 [==============================] - 133s 1s/step - loss: 0.6928 - accuracy: 0.7967 - val_loss: 0.3737 - val_accuracy: 0.8862\n",
            "Epoch 8/12\n",
            "131/131 [==============================] - 132s 1s/step - loss: 0.7022 - accuracy: 0.7946 - val_loss: 0.3757 - val_accuracy: 0.8831\n",
            "Epoch 9/12\n",
            "131/131 [==============================] - 132s 1s/step - loss: 0.6589 - accuracy: 0.7995 - val_loss: 0.3714 - val_accuracy: 0.8850\n",
            "Epoch 10/12\n",
            "131/131 [==============================] - 132s 1s/step - loss: 0.6571 - accuracy: 0.8035 - val_loss: 0.3734 - val_accuracy: 0.8856\n",
            "Epoch 11/12\n",
            "131/131 [==============================] - 132s 1s/step - loss: 0.6383 - accuracy: 0.8053 - val_loss: 0.3769 - val_accuracy: 0.8836\n",
            "Epoch 12/12\n",
            "131/131 [==============================] - 133s 1s/step - loss: 0.6321 - accuracy: 0.8059 - val_loss: 0.3683 - val_accuracy: 0.8842\n"
          ]
        }
      ],
      "source": [
        "# Train Model\n",
        "\n",
        "epoch=12\n",
        "history = model.fit_generator(\n",
        "  trainBatch,\n",
        "  steps_per_epoch = trainBatch.samples // batchSize,\n",
        "  validation_data = valBatch,\n",
        "  validation_steps = valBatch.samples // batchSize,\n",
        "  epochs=epoch,\n",
        ")"
      ]
    },
    {
      "cell_type": "markdown",
      "metadata": {
        "id": "dWJbYmtuus4c"
      },
      "source": [
        "## show the loss & accuracy curve"
      ]
    },
    {
      "cell_type": "code",
      "execution_count": 41,
      "metadata": {
        "id": "Z0E2C7MYNixf",
        "colab": {
          "base_uri": "https://localhost:8080/",
          "height": 545
        },
        "outputId": "96a2dcf6-fd08-4244-8631-d062fdf83c4c"
      },
      "outputs": [
        {
          "output_type": "display_data",
          "data": {
            "text/plain": [
              "<Figure size 432x288 with 1 Axes>"
            ],
            "image/png": "[encoded data removed]"
          },
          "metadata": {
            "needs_background": "light"
          }
        },
        {
          "output_type": "display_data",
          "data": {
            "text/plain": [
              "<Figure size 432x288 with 1 Axes>"
            ],
            "image/png": "[encoded data removed]"
          },
          "metadata": {
            "needs_background": "light"
          }
        }
      ],
      "source": [
        "plt.plot(history.history['loss'],label='loss')\n",
        "plt.plot(history.history['val_loss'],label='val_loss')\n",
        "plt.title('loss curve')\n",
        "plt.ylabel('loss')\n",
        "plt.legend()\n",
        "plt.show()\n",
        "plt.plot(history.history['accuracy'],label='accuracy')\n",
        "plt.plot(history.history['val_accuracy'],label='val_accuracy')\n",
        "plt.title('accuracy curve')\n",
        "plt.ylabel('accuracy')\n",
        "plt.legend()\n",
        "plt.show()"
      ]
    },
    {
      "cell_type": "markdown",
      "metadata": {
        "id": "X6RDlbqaukki"
      },
      "source": [
        "## predict test data"
      ]
    },
    {
      "cell_type": "code",
      "execution_count": 42,
      "metadata": {
        "id": "BUdqX8aZ_fEC",
        "colab": {
          "base_uri": "https://localhost:8080/"
        },
        "outputId": "59f6936e-2bf7-49f8-8ecc-8eb3a6c8164f"
      },
      "outputs": [
        {
          "output_type": "execute_result",
          "data": {
            "text/plain": [
              "array([[1.74931301e-05, 2.74515036e-03, 9.90797271e-05, ...,\n",
              "        1.25953120e-05, 1.12935151e-04, 1.85532372e-05],\n",
              "       [9.48590969e-05, 9.96644735e-01, 2.00102004e-05, ...,\n",
              "        4.38893903e-06, 3.30044277e-05, 7.68560585e-06],\n",
              "       [1.01106634e-05, 1.00479920e-05, 1.14272789e-05, ...,\n",
              "        1.37675715e-05, 1.35956245e-04, 2.44085059e-05],\n",
              "       ...,\n",
              "       [1.00766185e-04, 8.34082221e-06, 4.41974271e-06, ...,\n",
              "        1.91999152e-05, 1.91475101e-05, 2.67924897e-05],\n",
              "       [1.79547751e-05, 2.33870287e-06, 1.45140348e-05, ...,\n",
              "        9.24936194e-06, 4.53846806e-05, 1.46230568e-05],\n",
              "       [1.08441118e-05, 7.21884680e-06, 5.51376570e-06, ...,\n",
              "        1.27894828e-05, 9.60005636e-05, 2.16807493e-05]], dtype=float32)"
            ]
          },
          "metadata": {},
          "execution_count": 42
        }
      ],
      "source": [
        "prediction = model.predict(testBatch)\n",
        "prediction"
      ]
    },
    {
      "cell_type": "markdown",
      "metadata": {
        "id": "iiTO1mWpZJpp"
      },
      "source": [
        "## 輸出結果"
      ]
    },
    {
      "cell_type": "code",
      "execution_count": 43,
      "metadata": {
        "id": "OdYZq54b3voA"
      },
      "outputs": [],
      "source": [
        "import pandas as pd\n",
        "prediction_label=prediction.argmax(axis=1)\n",
        "filename=testBatch.filenames\n",
        "filename_new = []\n",
        "for f in filename:\n",
        "  filename_new.append(f[5::])"
      ]
    },
    {
      "cell_type": "code",
      "execution_count": 44,
      "metadata": {
        "id": "b8cStO9MTY-d"
      },
      "outputs": [],
      "source": [
        "outputdf=pd.DataFrame()\n",
        "outputdf['Name']=filename_new\n",
        "outputdf['Label']=prediction_label\n",
        "outputdf.to_csv('/content/drive/MyDrive/Colab Notebooks/2022cvdl_practice_HW3/prediction_v10.csv',index=False)"
      ]
    }
  ],
  "metadata": {
    "accelerator": "GPU",
    "colab": {
      "collapsed_sections": [],
      "name": "Copy of F44076241_水修澤_HW3.ipynb",
      "provenance": []
    },
    "kernelspec": {
      "display_name": "Python 3",
      "name": "python3"
    },
    "language_info": {
      "name": "python"
    }
  },
  "nbformat": 4,
  "nbformat_minor": 0
}