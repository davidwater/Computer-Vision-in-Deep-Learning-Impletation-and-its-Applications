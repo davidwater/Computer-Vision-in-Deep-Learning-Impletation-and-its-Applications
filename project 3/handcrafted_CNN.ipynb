{
  "nbformat": 4,
  "nbformat_minor": 0,
  "metadata": {
    "colab": {
      "name": "Copy of F44076241_水修澤_HW2.ipynb",
      "provenance": [],
      "collapsed_sections": []
    },
    "kernelspec": {
      "name": "python3",
      "display_name": "Python 3"
    },
    "language_info": {
      "name": "python"
    },
    "accelerator": "GPU"
  },
  "cells": [
    {
      "cell_type": "code",
      "source": [
        "from google.colab import drive\n",
        "drive.mount('/content/drive')"
      ],
      "metadata": {
        "id": "jQflfYYvjxdd",
        "colab": {
          "base_uri": "https://localhost:8080/"
        },
        "outputId": "72fc1a44-69cd-4d8e-8548-9d2954e74c39"
      },
      "execution_count": 1,
      "outputs": [
        {
          "output_type": "stream",
          "name": "stdout",
          "text": [
            "Drive already mounted at /content/drive; to attempt to forcibly remount, call drive.mount(\"/content/drive\", force_remount=True).\n"
          ]
        }
      ]
    },
    {
      "cell_type": "code",
      "source": [
        "%cd '/content/drive/MyDrive/Colab Notebooks/2022cvdl_practice_HW2/2022cvdl_practice_HW2'"
      ],
      "metadata": {
        "id": "2y3Ufwl3jyzX",
        "colab": {
          "base_uri": "https://localhost:8080/"
        },
        "outputId": "07183a45-f3fa-48a0-a580-fc24ab221823"
      },
      "execution_count": 2,
      "outputs": [
        {
          "output_type": "stream",
          "name": "stdout",
          "text": [
            "/content/drive/.shortcut-targets-by-id/1ygwbISHkWA0yU7SHxNNcJb4S861jpHxe/2022cvdl_practice_HW2/2022cvdl_practice_HW2\n"
          ]
        }
      ]
    },
    {
      "cell_type": "code",
      "execution_count": 3,
      "metadata": {
        "id": "zX5qnIteT4Qn"
      },
      "outputs": [],
      "source": [
        "import matplotlib.pyplot as plt\n",
        "import numpy as np\n",
        "import tensorflow as tf\n",
        "from keras import layers,models\n",
        "import pandas as pd\n",
        "import os\n",
        "import cv2"
      ]
    },
    {
      "cell_type": "markdown",
      "source": [
        "## GPU Acceleration"
      ],
      "metadata": {
        "id": "xcj5E8S0o2he"
      }
    },
    {
      "cell_type": "code",
      "source": [
        "%tensorflow_version 2.x\n",
        "import tensorflow as tf\n",
        "device_name = tf.test.gpu_device_name()\n",
        "if device_name != '/device:GPU:0':\n",
        "  raise SystemError('GPU device not found')\n",
        "print('Found GPU at: {}'.format(device_name))"
      ],
      "metadata": {
        "id": "8x-a1Z59o6ct",
        "colab": {
          "base_uri": "https://localhost:8080/"
        },
        "outputId": "1aab6c12-c7d5-4d61-d121-e661e0b82157"
      },
      "execution_count": 4,
      "outputs": [
        {
          "output_type": "stream",
          "name": "stdout",
          "text": [
            "Found GPU at: /device:GPU:0\n"
          ]
        }
      ]
    },
    {
      "cell_type": "code",
      "source": [
        "!nvidia-smi"
      ],
      "metadata": {
        "colab": {
          "base_uri": "https://localhost:8080/"
        },
        "id": "FQHG1uyb34qb",
        "outputId": "05c625a3-a623-4a6e-eea0-fcf05dc15cef"
      },
      "execution_count": 5,
      "outputs": [
        {
          "output_type": "stream",
          "name": "stdout",
          "text": [
            "Thu Apr 28 14:28:32 2022       \n",
            "+-----------------------------------------------------------------------------+\n",
            "| NVIDIA-SMI 460.32.03    Driver Version: 460.32.03    CUDA Version: 11.2     |\n",
            "|-------------------------------+----------------------+----------------------+\n",
            "| GPU  Name        Persistence-M| Bus-Id        Disp.A | Volatile Uncorr. ECC |\n",
            "| Fan  Temp  Perf  Pwr:Usage/Cap|         Memory-Usage | GPU-Util  Compute M. |\n",
            "|                               |                      |               MIG M. |\n",
            "|===============================+======================+======================|\n",
            "|   0  Tesla T4            Off  | 00000000:00:04.0 Off |                    0 |\n",
            "| N/A   66C    P0    29W /  70W |    264MiB / 15109MiB |      1%      Default |\n",
            "|                               |                      |                  N/A |\n",
            "+-------------------------------+----------------------+----------------------+\n",
            "                                                                               \n",
            "+-----------------------------------------------------------------------------+\n",
            "| Processes:                                                                  |\n",
            "|  GPU   GI   CI        PID   Type   Process name                  GPU Memory |\n",
            "|        ID   ID                                                   Usage      |\n",
            "|=============================================================================|\n",
            "+-----------------------------------------------------------------------------+\n"
          ]
        }
      ]
    },
    {
      "cell_type": "markdown",
      "source": [
        "## Part 1: Data Preprocessing"
      ],
      "metadata": {
        "id": "QQU3oHtHntoJ"
      }
    },
    {
      "cell_type": "markdown",
      "source": [
        "### Load Data"
      ],
      "metadata": {
        "id": "FiPqvCztUD4m"
      }
    },
    {
      "cell_type": "code",
      "source": [
        "# 設定資料路徑\n",
        "# training data path\n",
        "trainpath = '/content/drive/MyDrive/Colab Notebooks/2022cvdl_practice_HW2/2022cvdl_practice_HW2/2022computervision/weather_image/train/'\n",
        "trcloudy='/content/drive/MyDrive/Colab Notebooks/2022cvdl_practice_HW2/2022cvdl_practice_HW2/2022computervision/weather_image/train/cloudy/'\n",
        "trrain='/content/drive/MyDrive/Colab Notebooks/2022cvdl_practice_HW2/2022cvdl_practice_HW2/2022computervision/weather_image/train/rain/'\n",
        "trshine='/content/drive/MyDrive/Colab Notebooks/2022cvdl_practice_HW2/2022cvdl_practice_HW2/2022computervision/weather_image/train/shine/'\n",
        "trsunrise='/content/drive/MyDrive/Colab Notebooks/2022cvdl_practice_HW2/2022cvdl_practice_HW2/2022computervision/weather_image/train/sunrise/'\n",
        "# testing data path\n",
        "testpath='/content/drive/MyDrive/Colab Notebooks/2022cvdl_practice_HW2/2022cvdl_practice_HW2/2022computervision/weather_image/test/'"
      ],
      "metadata": {
        "id": "S67siOHUPtFs"
      },
      "execution_count": 6,
      "outputs": []
    },
    {
      "cell_type": "code",
      "source": [
        "# 顯示資料筆數\n",
        "print('train cloudy length: ',len(os.listdir(trcloudy)))\n",
        "print('train rain length: ',len(os.listdir(trrain)))\n",
        "print('train shine length: ',len(os.listdir(trshine)))\n",
        "print('train sunrise length: ',len(os.listdir(trsunrise)))\n",
        "print('\\n')\n",
        "print('test data length: ',len(os.listdir(testpath)))"
      ],
      "metadata": {
        "id": "IMxQ690vZn6F",
        "colab": {
          "base_uri": "https://localhost:8080/"
        },
        "outputId": "7f83cf80-ef75-4c03-c542-a75718ae28cc"
      },
      "execution_count": 7,
      "outputs": [
        {
          "output_type": "stream",
          "name": "stdout",
          "text": [
            "train cloudy length:  280\n",
            "train rain length:  199\n",
            "train shine length:  232\n",
            "train sunrise length:  337\n",
            "\n",
            "\n",
            "test data length:  75\n"
          ]
        }
      ]
    },
    {
      "cell_type": "markdown",
      "source": [
        "### convert image data to numpy"
      ],
      "metadata": {
        "id": "BqOzw5g4l-1B"
      }
    },
    {
      "cell_type": "code",
      "source": [
        "# convert the train data to numpy\n",
        "tr_label=list()\n",
        "tr_data=np.empty(shape=(1048,300,300,3))\n",
        "x=0\n",
        "for i in range(len(os.listdir(trcloudy))):\n",
        "  f=os.listdir(trcloudy)[i]\n",
        "  img=cv2.imread(trcloudy+f)\n",
        "  img=cv2.resize(img,(300,300))\n",
        "  img=img[:,:,::-1]/255\n",
        "  tr_data[x]=img\n",
        "  tr_label.append(0)\n",
        "  x+=1\n",
        "for i in range(len(os.listdir(trrain))):\n",
        "  f=os.listdir(trrain)[i]\n",
        "  img=cv2.imread(trrain+f)\n",
        "  img=cv2.resize(img,(300,300))\n",
        "  img=img[:,:,::-1]/255\n",
        "  tr_data[x]=img\n",
        "  tr_label.append(1)\n",
        "  x+=1\n",
        "for i in range(len(os.listdir(trshine))):\n",
        "  f=os.listdir(trshine)[i]\n",
        "  img=cv2.imread(trshine+f)\n",
        "  img=cv2.resize(img,(300,300))\n",
        "  img=img[:,:,::-1]/255\n",
        "  tr_data[x]=img\n",
        "  tr_label.append(2)\n",
        "  x+=1\n",
        "for i in range(len(os.listdir(trsunrise))):\n",
        "  f=os.listdir(trsunrise)[i]\n",
        "  img=cv2.imread(trsunrise+f)\n",
        "  img=cv2.resize(img,(300,300))\n",
        "  img=img[:,:,::-1]/255\n",
        "  tr_data[x]=img\n",
        "  tr_label.append(3)\n",
        "  x+=1\n",
        "\n",
        "tr_label=np.array(tr_label)"
      ],
      "metadata": {
        "id": "nlnlKZrxe1CB"
      },
      "execution_count": 8,
      "outputs": []
    },
    {
      "cell_type": "code",
      "source": [
        "# convert the test data to numpy\n",
        "te_filename=list()\n",
        "te_data=np.empty(shape=(75,300,300,3))\n",
        "for i in range(len(os.listdir(testpath))):\n",
        "  f=os.listdir(testpath)[i]\n",
        "  te_filename.append(f)\n",
        "  img=cv2.imread(testpath+f)\n",
        "  img=cv2.resize(img,(300,300))\n",
        "  img=img[:,:,::-1]/255\n",
        "  te_data[i]=img"
      ],
      "metadata": {
        "id": "7q2ZWbFcXEhQ"
      },
      "execution_count": 9,
      "outputs": []
    },
    {
      "cell_type": "code",
      "source": [
        "# show data size\n",
        "print('train data size:',tr_data.shape)\n",
        "print('train label size:',len(tr_label))\n",
        "print('test data size:',te_data.shape)"
      ],
      "metadata": {
        "id": "5rpm0LFMdkSu",
        "colab": {
          "base_uri": "https://localhost:8080/"
        },
        "outputId": "af3a7b82-e722-4f35-e2fe-fe2399d773c1"
      },
      "execution_count": 10,
      "outputs": [
        {
          "output_type": "stream",
          "name": "stdout",
          "text": [
            "train data size: (1048, 300, 300, 3)\n",
            "train label size: 1048\n",
            "test data size: (75, 300, 300, 3)\n"
          ]
        }
      ]
    },
    {
      "cell_type": "markdown",
      "source": [
        "### shuffle"
      ],
      "metadata": {
        "id": "jNYqCvrkn5UB"
      }
    },
    {
      "cell_type": "code",
      "source": [
        "# on-hot label\n",
        "from tensorflow.keras.utils import to_categorical\n",
        "tr_label=to_categorical(tr_label)\n",
        "# 打亂資料順序\n",
        "from sklearn.utils import shuffle\n",
        "tr_data,tr_label=shuffle(tr_data,tr_label,random_state=0)"
      ],
      "metadata": {
        "id": "htMr6KcXn2mq"
      },
      "execution_count": 11,
      "outputs": []
    },
    {
      "cell_type": "markdown",
      "source": [
        "### train_validation data split"
      ],
      "metadata": {
        "id": "EwYA8f8e7r9V"
      }
    },
    {
      "cell_type": "code",
      "source": [
        "# train_validation data split\n",
        "#val_data數量固定262個\n",
        "train_data=tr_data[0:786]\n",
        "val_data=tr_data[786:]\n",
        "train_label=tr_label[0:786]\n",
        "val_label=tr_label[786:]\n",
        "print('train data size: ',train_data.shape)\n",
        "print('validation data size: ',val_data.shape)\n",
        "print('train label size: ',train_label.shape)\n",
        "print('validation label size: ',val_label.shape)"
      ],
      "metadata": {
        "id": "gIfwyuSY5Ytc",
        "colab": {
          "base_uri": "https://localhost:8080/"
        },
        "outputId": "ec4c502a-7ab4-40aa-d449-c33d6b3522ac"
      },
      "execution_count": 12,
      "outputs": [
        {
          "output_type": "stream",
          "name": "stdout",
          "text": [
            "train data size:  (786, 300, 300, 3)\n",
            "validation data size:  (262, 300, 300, 3)\n",
            "train label size:  (786, 4)\n",
            "validation label size:  (262, 4)\n"
          ]
        }
      ]
    },
    {
      "cell_type": "markdown",
      "source": [
        "## Part 2: Build a simple CNN"
      ],
      "metadata": {
        "id": "7NCukwEIptQ6"
      }
    },
    {
      "cell_type": "code",
      "source": [
        "import keras\n",
        "import tensorflow as tf\n",
        "from keras.models import Sequential\n",
        "from keras.layers import Dense, Dropout, Activation, Conv2D, MaxPool2D, Flatten, BatchNormalization\n",
        "from keras.preprocessing.image import ImageDataGenerator\n",
        "from keras.utils import np_utils\n",
        "from tensorflow.keras.optimizers import SGD, Adam \n",
        "import numpy as np\n",
        "import matplotlib.pyplot as plt"
      ],
      "metadata": {
        "id": "mrADuPtapIuH"
      },
      "execution_count": 13,
      "outputs": []
    },
    {
      "cell_type": "code",
      "source": [
        "# define model\n",
        "model=models.Sequential() # name the network\n",
        "# feature extraction\n",
        "model.add(Conv2D(input_shape=(300,300,3),filters=32,kernel_size=(3,3),padding=\"same\", name='Conv2d-1'))\n",
        "model.add(BatchNormalization(name='BatchNorm-1'))\n",
        "model.add(Activation(\"relu\", name='ReLU-1'))\n",
        "\n",
        "model.add(Conv2D(filters=32,kernel_size=(3,3),padding=\"same\", name='Conv2d-2'))\n",
        "model.add(BatchNormalization(name='BatchNorm-2'))\n",
        "model.add(Activation(\"relu\", name='ReLU-2'))\n",
        "\n",
        "model.add(MaxPool2D(pool_size=(2,2), name='MaxPool-3'))\n",
        "\n",
        "model.add(Conv2D(filters=64, kernel_size=(3,3), padding=\"same\", name='Conv2d-4'))\n",
        "model.add(BatchNormalization(name='BatchNorm-4'))\n",
        "model.add(Activation(\"relu\", name='ReLU-4'))\n",
        "\n",
        "model.add(Conv2D(filters=64, kernel_size=(3,3), padding=\"same\", name='Conv2d-5'))\n",
        "model.add(BatchNormalization(name='BatchNorm-5'))\n",
        "model.add(Activation(\"relu\", name='ReLU-5'))\n",
        "\n",
        "\n",
        "model.add(MaxPool2D(pool_size=(2,2), name='MaxPool-6'))\n",
        "\n",
        "model.add(Conv2D(filters=128, kernel_size=(3,3), padding=\"same\", name='Conv2d-7'))\n",
        "model.add(BatchNormalization(name='BatchNorm-7'))\n",
        "model.add(Activation(\"relu\", name='ReLU-7'))\n",
        "\n",
        "model.add(Conv2D(filters=128, kernel_size=(3,3), padding=\"same\", name='Conv2d-8'))\n",
        "model.add(BatchNormalization(name='BatchNorm-8'))\n",
        "model.add(Activation(\"relu\", name='ReLU-8'))\n",
        "\n",
        "\n",
        "model.add(MaxPool2D(pool_size=(2,2), name='MaxPool-8'))\n",
        "\n",
        "\n",
        "\n",
        "# neron network\n",
        "model.add(Flatten(name='Flatten'))\n",
        "model.add(Dense(units=128, activation=\"relu\", name='fc-1'))\n",
        "model.add(BatchNormalization(name='BatchNorm-fc-1'))\n",
        "model.add(Dropout(0.5, name='Dropout-fc-1'))\n",
        "\n",
        "model.add(Dense(units=64,activation=\"relu\", name='fc-2'))\n",
        "model.add(BatchNormalization(name='BatchNorm-fc-2'))\n",
        "model.add(Dropout(0.5, name='Dropout-fc-2'))\n",
        "\n",
        "model.add(Dense(units=32,activation=\"relu\", name='fc-3'))\n",
        "model.add(BatchNormalization(name='BatchNorm-fc-3'))\n",
        "model.add(Dropout(0.5, name='Dropout-fc-3'))\n",
        "\n",
        "model.add(Dense(4, activation=\"softmax\", name='prediction'))\n",
        "\n",
        "# show the model structure\n",
        "model.summary()"
      ],
      "metadata": {
        "id": "whaKqelmUyAt",
        "colab": {
          "base_uri": "https://localhost:8080/"
        },
        "outputId": "80f585a7-21d4-47bd-bc38-b646e83c1a3b"
      },
      "execution_count": 14,
      "outputs": [
        {
          "output_type": "stream",
          "name": "stdout",
          "text": [
            "Model: \"sequential\"\n",
            "_________________________________________________________________\n",
            " Layer (type)                Output Shape              Param #   \n",
            "=================================================================\n",
            " Conv2d-1 (Conv2D)           (None, 300, 300, 32)      896       \n",
            "                                                                 \n",
            " BatchNorm-1 (BatchNormaliza  (None, 300, 300, 32)     128       \n",
            " tion)                                                           \n",
            "                                                                 \n",
            " ReLU-1 (Activation)         (None, 300, 300, 32)      0         \n",
            "                                                                 \n",
            " Conv2d-2 (Conv2D)           (None, 300, 300, 32)      9248      \n",
            "                                                                 \n",
            " BatchNorm-2 (BatchNormaliza  (None, 300, 300, 32)     128       \n",
            " tion)                                                           \n",
            "                                                                 \n",
            " ReLU-2 (Activation)         (None, 300, 300, 32)      0         \n",
            "                                                                 \n",
            " MaxPool-3 (MaxPooling2D)    (None, 150, 150, 32)      0         \n",
            "                                                                 \n",
            " Conv2d-4 (Conv2D)           (None, 150, 150, 64)      18496     \n",
            "                                                                 \n",
            " BatchNorm-4 (BatchNormaliza  (None, 150, 150, 64)     256       \n",
            " tion)                                                           \n",
            "                                                                 \n",
            " ReLU-4 (Activation)         (None, 150, 150, 64)      0         \n",
            "                                                                 \n",
            " Conv2d-5 (Conv2D)           (None, 150, 150, 64)      36928     \n",
            "                                                                 \n",
            " BatchNorm-5 (BatchNormaliza  (None, 150, 150, 64)     256       \n",
            " tion)                                                           \n",
            "                                                                 \n",
            " ReLU-5 (Activation)         (None, 150, 150, 64)      0         \n",
            "                                                                 \n",
            " MaxPool-6 (MaxPooling2D)    (None, 75, 75, 64)        0         \n",
            "                                                                 \n",
            " Conv2d-7 (Conv2D)           (None, 75, 75, 128)       73856     \n",
            "                                                                 \n",
            " BatchNorm-7 (BatchNormaliza  (None, 75, 75, 128)      512       \n",
            " tion)                                                           \n",
            "                                                                 \n",
            " ReLU-7 (Activation)         (None, 75, 75, 128)       0         \n",
            "                                                                 \n",
            " Conv2d-8 (Conv2D)           (None, 75, 75, 128)       147584    \n",
            "                                                                 \n",
            " BatchNorm-8 (BatchNormaliza  (None, 75, 75, 128)      512       \n",
            " tion)                                                           \n",
            "                                                                 \n",
            " ReLU-8 (Activation)         (None, 75, 75, 128)       0         \n",
            "                                                                 \n",
            " MaxPool-8 (MaxPooling2D)    (None, 37, 37, 128)       0         \n",
            "                                                                 \n",
            " Flatten (Flatten)           (None, 175232)            0         \n",
            "                                                                 \n",
            " fc-1 (Dense)                (None, 128)               22429824  \n",
            "                                                                 \n",
            " BatchNorm-fc-1 (BatchNormal  (None, 128)              512       \n",
            " ization)                                                        \n",
            "                                                                 \n",
            " Dropout-fc-1 (Dropout)      (None, 128)               0         \n",
            "                                                                 \n",
            " fc-2 (Dense)                (None, 64)                8256      \n",
            "                                                                 \n",
            " BatchNorm-fc-2 (BatchNormal  (None, 64)               256       \n",
            " ization)                                                        \n",
            "                                                                 \n",
            " Dropout-fc-2 (Dropout)      (None, 64)                0         \n",
            "                                                                 \n",
            " fc-3 (Dense)                (None, 32)                2080      \n",
            "                                                                 \n",
            " BatchNorm-fc-3 (BatchNormal  (None, 32)               128       \n",
            " ization)                                                        \n",
            "                                                                 \n",
            " Dropout-fc-3 (Dropout)      (None, 32)                0         \n",
            "                                                                 \n",
            " prediction (Dense)          (None, 4)                 132       \n",
            "                                                                 \n",
            "=================================================================\n",
            "Total params: 22,729,988\n",
            "Trainable params: 22,728,644\n",
            "Non-trainable params: 1,344\n",
            "_________________________________________________________________\n"
          ]
        }
      ]
    },
    {
      "cell_type": "code",
      "source": [
        "# compile model\n",
        "lr = 0.01\n",
        "nb_epoch = 50\n",
        "batch_size = 64\n",
        "# opt = Adam(learning_rate=lr, beta_1 = 0.9, beta_2=0.999, epsilon=1e-08, decay = 0)\n",
        "decay = lr/nb_epoch\n",
        "momentum = 0.9\n",
        "opt = SGD(learning_rate=lr, decay=decay, momentum=momentum, nesterov=True)\n",
        "\n",
        "model.compile(optimizer=opt, loss=tf.keras.losses.CategoricalCrossentropy(), metrics=['accuracy'])"
      ],
      "metadata": {
        "id": "XjHVy0LXtnu6"
      },
      "execution_count": 20,
      "outputs": []
    },
    {
      "cell_type": "code",
      "source": [
        "data_augmentation = tf.keras.Sequential([\n",
        "  layers.RandomFlip(\"horizontal_and_vertical\"),\n",
        "  layers.RandomRotation(0.5),\n",
        "])"
      ],
      "metadata": {
        "id": "6gPLKpWy_kif"
      },
      "execution_count": 16,
      "outputs": []
    },
    {
      "cell_type": "code",
      "source": [
        "train_data=data_augmentation(train_data)"
      ],
      "metadata": {
        "id": "ZnbjUJc2_q1S"
      },
      "execution_count": 17,
      "outputs": []
    },
    {
      "cell_type": "code",
      "source": [
        "history = model.fit(train_data, train_label, validation_split=0.3, batch_size=batch_size, epochs=nb_epoch, verbose=1)"
      ],
      "metadata": {
        "id": "NswWOJ8ivbr7",
        "colab": {
          "base_uri": "https://localhost:8080/"
        },
        "outputId": "5ab53700-aa72-436a-ccd4-968484ea9c72"
      },
      "execution_count": 21,
      "outputs": [
        {
          "output_type": "stream",
          "name": "stdout",
          "text": [
            "Epoch 1/50\n",
            "9/9 [==============================] - 8s 684ms/step - loss: 0.2437 - accuracy: 0.9327 - val_loss: 2.9729 - val_accuracy: 0.4025\n",
            "Epoch 2/50\n",
            "9/9 [==============================] - 6s 650ms/step - loss: 0.2920 - accuracy: 0.9091 - val_loss: 2.3836 - val_accuracy: 0.4746\n",
            "Epoch 3/50\n",
            "9/9 [==============================] - 6s 654ms/step - loss: 0.2777 - accuracy: 0.9218 - val_loss: 2.6822 - val_accuracy: 0.4492\n",
            "Epoch 4/50\n",
            "9/9 [==============================] - 6s 655ms/step - loss: 0.2414 - accuracy: 0.9273 - val_loss: 2.4009 - val_accuracy: 0.5212\n",
            "Epoch 5/50\n",
            "9/9 [==============================] - 6s 660ms/step - loss: 0.1931 - accuracy: 0.9418 - val_loss: 2.4806 - val_accuracy: 0.4788\n",
            "Epoch 6/50\n",
            "9/9 [==============================] - 6s 662ms/step - loss: 0.2165 - accuracy: 0.9273 - val_loss: 1.4537 - val_accuracy: 0.6695\n",
            "Epoch 7/50\n",
            "9/9 [==============================] - 6s 660ms/step - loss: 0.2139 - accuracy: 0.9218 - val_loss: 1.6503 - val_accuracy: 0.6102\n",
            "Epoch 8/50\n",
            "9/9 [==============================] - 6s 659ms/step - loss: 0.2761 - accuracy: 0.9164 - val_loss: 3.0568 - val_accuracy: 0.5212\n",
            "Epoch 9/50\n",
            "9/9 [==============================] - 6s 656ms/step - loss: 0.2539 - accuracy: 0.9291 - val_loss: 2.0300 - val_accuracy: 0.5508\n",
            "Epoch 10/50\n",
            "9/9 [==============================] - 6s 655ms/step - loss: 0.2499 - accuracy: 0.9327 - val_loss: 1.6215 - val_accuracy: 0.6229\n",
            "Epoch 11/50\n",
            "9/9 [==============================] - 6s 654ms/step - loss: 0.2743 - accuracy: 0.9109 - val_loss: 0.6684 - val_accuracy: 0.7669\n",
            "Epoch 12/50\n",
            "9/9 [==============================] - 6s 651ms/step - loss: 0.2326 - accuracy: 0.9382 - val_loss: 0.6086 - val_accuracy: 0.8093\n",
            "Epoch 13/50\n",
            "9/9 [==============================] - 6s 653ms/step - loss: 0.2121 - accuracy: 0.9473 - val_loss: 2.6531 - val_accuracy: 0.5000\n",
            "Epoch 14/50\n",
            "9/9 [==============================] - 6s 655ms/step - loss: 0.1786 - accuracy: 0.9473 - val_loss: 1.6881 - val_accuracy: 0.6229\n",
            "Epoch 15/50\n",
            "9/9 [==============================] - 6s 650ms/step - loss: 0.1621 - accuracy: 0.9582 - val_loss: 0.8781 - val_accuracy: 0.7203\n",
            "Epoch 16/50\n",
            "9/9 [==============================] - 6s 652ms/step - loss: 0.1724 - accuracy: 0.9455 - val_loss: 1.0103 - val_accuracy: 0.7331\n",
            "Epoch 17/50\n",
            "9/9 [==============================] - 6s 652ms/step - loss: 0.1336 - accuracy: 0.9673 - val_loss: 0.7182 - val_accuracy: 0.7797\n",
            "Epoch 18/50\n",
            "9/9 [==============================] - 6s 655ms/step - loss: 0.1595 - accuracy: 0.9545 - val_loss: 0.7955 - val_accuracy: 0.7500\n",
            "Epoch 19/50\n",
            "9/9 [==============================] - 6s 656ms/step - loss: 0.1705 - accuracy: 0.9564 - val_loss: 0.5655 - val_accuracy: 0.8390\n",
            "Epoch 20/50\n",
            "9/9 [==============================] - 6s 725ms/step - loss: 0.1578 - accuracy: 0.9382 - val_loss: 0.4678 - val_accuracy: 0.8686\n",
            "Epoch 21/50\n",
            "9/9 [==============================] - 6s 656ms/step - loss: 0.1431 - accuracy: 0.9564 - val_loss: 0.6084 - val_accuracy: 0.8517\n",
            "Epoch 22/50\n",
            "9/9 [==============================] - 6s 655ms/step - loss: 0.1485 - accuracy: 0.9564 - val_loss: 0.5398 - val_accuracy: 0.8856\n",
            "Epoch 23/50\n",
            "9/9 [==============================] - 6s 653ms/step - loss: 0.1802 - accuracy: 0.9491 - val_loss: 0.3077 - val_accuracy: 0.9280\n",
            "Epoch 24/50\n",
            "9/9 [==============================] - 6s 654ms/step - loss: 0.1155 - accuracy: 0.9655 - val_loss: 0.4412 - val_accuracy: 0.8941\n",
            "Epoch 25/50\n",
            "9/9 [==============================] - 6s 656ms/step - loss: 0.1590 - accuracy: 0.9600 - val_loss: 0.5073 - val_accuracy: 0.8602\n",
            "Epoch 26/50\n",
            "9/9 [==============================] - 6s 655ms/step - loss: 0.1156 - accuracy: 0.9655 - val_loss: 0.3336 - val_accuracy: 0.9237\n",
            "Epoch 27/50\n",
            "9/9 [==============================] - 6s 656ms/step - loss: 0.1519 - accuracy: 0.9636 - val_loss: 0.5345 - val_accuracy: 0.8475\n",
            "Epoch 28/50\n",
            "9/9 [==============================] - 6s 655ms/step - loss: 0.1197 - accuracy: 0.9545 - val_loss: 0.7126 - val_accuracy: 0.7966\n",
            "Epoch 29/50\n",
            "9/9 [==============================] - 6s 652ms/step - loss: 0.1351 - accuracy: 0.9600 - val_loss: 0.4795 - val_accuracy: 0.8517\n",
            "Epoch 30/50\n",
            "9/9 [==============================] - 6s 653ms/step - loss: 0.1091 - accuracy: 0.9764 - val_loss: 0.5681 - val_accuracy: 0.8347\n",
            "Epoch 31/50\n",
            "9/9 [==============================] - 6s 656ms/step - loss: 0.1188 - accuracy: 0.9691 - val_loss: 0.2912 - val_accuracy: 0.9280\n",
            "Epoch 32/50\n",
            "9/9 [==============================] - 6s 655ms/step - loss: 0.1081 - accuracy: 0.9764 - val_loss: 0.4594 - val_accuracy: 0.8771\n",
            "Epoch 33/50\n",
            "9/9 [==============================] - 6s 655ms/step - loss: 0.0803 - accuracy: 0.9727 - val_loss: 0.3719 - val_accuracy: 0.8898\n",
            "Epoch 34/50\n",
            "9/9 [==============================] - 6s 722ms/step - loss: 0.0958 - accuracy: 0.9727 - val_loss: 0.6246 - val_accuracy: 0.8051\n",
            "Epoch 35/50\n",
            "9/9 [==============================] - 6s 656ms/step - loss: 0.1496 - accuracy: 0.9564 - val_loss: 0.2754 - val_accuracy: 0.9195\n",
            "Epoch 36/50\n",
            "9/9 [==============================] - 6s 656ms/step - loss: 0.1803 - accuracy: 0.9455 - val_loss: 0.7879 - val_accuracy: 0.8432\n",
            "Epoch 37/50\n",
            "9/9 [==============================] - 6s 656ms/step - loss: 0.1437 - accuracy: 0.9600 - val_loss: 0.6061 - val_accuracy: 0.8644\n",
            "Epoch 38/50\n",
            "9/9 [==============================] - 6s 653ms/step - loss: 0.1408 - accuracy: 0.9564 - val_loss: 0.6568 - val_accuracy: 0.8263\n",
            "Epoch 39/50\n",
            "9/9 [==============================] - 6s 656ms/step - loss: 0.1035 - accuracy: 0.9655 - val_loss: 0.3303 - val_accuracy: 0.9068\n",
            "Epoch 40/50\n",
            "9/9 [==============================] - 6s 654ms/step - loss: 0.0923 - accuracy: 0.9782 - val_loss: 0.3232 - val_accuracy: 0.9153\n",
            "Epoch 41/50\n",
            "9/9 [==============================] - 6s 656ms/step - loss: 0.0824 - accuracy: 0.9782 - val_loss: 0.3051 - val_accuracy: 0.9195\n",
            "Epoch 42/50\n",
            "9/9 [==============================] - 6s 657ms/step - loss: 0.0838 - accuracy: 0.9800 - val_loss: 0.3100 - val_accuracy: 0.9025\n",
            "Epoch 43/50\n",
            "9/9 [==============================] - 6s 654ms/step - loss: 0.1078 - accuracy: 0.9745 - val_loss: 0.2817 - val_accuracy: 0.9068\n",
            "Epoch 44/50\n",
            "9/9 [==============================] - 6s 653ms/step - loss: 0.0624 - accuracy: 0.9818 - val_loss: 0.4422 - val_accuracy: 0.8898\n",
            "Epoch 45/50\n",
            "9/9 [==============================] - 6s 655ms/step - loss: 0.0810 - accuracy: 0.9782 - val_loss: 0.5581 - val_accuracy: 0.8686\n",
            "Epoch 46/50\n",
            "9/9 [==============================] - 6s 657ms/step - loss: 0.1276 - accuracy: 0.9636 - val_loss: 0.3460 - val_accuracy: 0.9195\n",
            "Epoch 47/50\n",
            "9/9 [==============================] - 6s 652ms/step - loss: 0.0944 - accuracy: 0.9727 - val_loss: 0.4269 - val_accuracy: 0.8941\n",
            "Epoch 48/50\n",
            "9/9 [==============================] - 6s 656ms/step - loss: 0.1140 - accuracy: 0.9655 - val_loss: 0.6670 - val_accuracy: 0.8686\n",
            "Epoch 49/50\n",
            "9/9 [==============================] - 6s 654ms/step - loss: 0.0615 - accuracy: 0.9818 - val_loss: 0.5374 - val_accuracy: 0.8856\n",
            "Epoch 50/50\n",
            "9/9 [==============================] - 6s 719ms/step - loss: 0.0669 - accuracy: 0.9836 - val_loss: 0.2892 - val_accuracy: 0.9322\n"
          ]
        }
      ]
    },
    {
      "cell_type": "code",
      "source": [
        "plt.plot(history.history['loss'],label='loss')\n",
        "plt.plot(history.history['val_loss'],label='val_loss')\n",
        "plt.title('loss curve')\n",
        "plt.ylabel('loss')\n",
        "plt.legend()\n",
        "plt.show()\n",
        "plt.plot(history.history['accuracy'],label='accuracy')\n",
        "plt.plot(history.history['val_accuracy'],label='val_accuracy')\n",
        "plt.title('accuracy curve')\n",
        "plt.ylabel('accuracy')\n",
        "plt.legend()\n",
        "plt.show()"
      ],
      "metadata": {
        "id": "adbKficbHBw-",
        "colab": {
          "base_uri": "https://localhost:8080/",
          "height": 545
        },
        "outputId": "e064b8f6-ed1a-4798-ae22-a16bc46cf2f5"
      },
      "execution_count": 22,
      "outputs": [
        {
          "output_type": "display_data",
          "data": {
            "text/plain": [
              "<Figure size 432x288 with 1 Axes>"
            ],
            "image/png": "[encoded data removed]"
          },
          "metadata": {
            "needs_background": "light"
          }
        },
        {
          "output_type": "display_data",
          "data": {
            "text/plain": [
              "<Figure size 432x288 with 1 Axes>"
            ],
            "image/png": "[encoded data removed]"
          },
          "metadata": {
            "needs_background": "light"
          }
        }
      ]
    },
    {
      "cell_type": "code",
      "source": [
        "loss, accuracy = model.evaluate(val_data, val_label)\n",
        "print('test: ')\n",
        "print('loss: {}'.format(loss))\n",
        "print('accuracy: {}'.format(accuracy))"
      ],
      "metadata": {
        "colab": {
          "base_uri": "https://localhost:8080/"
        },
        "id": "gXmQQ_ivfPTk",
        "outputId": "f006bd77-a471-4859-e368-f12e651fcb1c"
      },
      "execution_count": 23,
      "outputs": [
        {
          "output_type": "stream",
          "name": "stdout",
          "text": [
            "9/9 [==============================] - 3s 158ms/step - loss: 0.3345 - accuracy: 0.9160\n",
            "test: \n",
            "loss: 0.334461510181427\n",
            "accuracy: 0.9160305261611938\n"
          ]
        }
      ]
    },
    {
      "cell_type": "markdown",
      "source": [
        "### Plot the confusion matrix"
      ],
      "metadata": {
        "id": "9rJG7OpAqoeG"
      }
    },
    {
      "cell_type": "code",
      "source": [
        "from sklearn.metrics import confusion_matrix\n",
        "pre=model.predict(val_data)\n",
        "pre=np.argmax(pre,axis=1)"
      ],
      "metadata": {
        "id": "lKks-N98qi4k"
      },
      "execution_count": 24,
      "outputs": []
    },
    {
      "cell_type": "code",
      "source": [
        "import seaborn as sn\n",
        "cm=confusion_matrix(pre,np.argmax(val_label,axis=1))\n",
        "fit=plt.figure(figsize=(8,6))\n",
        "plt.title('confusion matrix')\n",
        "sn.heatmap(cm,annot=True,cmap='OrRd',fmt='g')\n",
        "plt.xlabel('prediction')\n",
        "plt.ylabel('true label')\n",
        "plt.show()"
      ],
      "metadata": {
        "id": "X9L9D56jfWgV",
        "colab": {
          "base_uri": "https://localhost:8080/",
          "height": 404
        },
        "outputId": "f0cd108f-1191-4f15-b4c7-32e6878707b4"
      },
      "execution_count": 25,
      "outputs": [
        {
          "output_type": "display_data",
          "data": {
            "text/plain": [
              "<Figure size 576x432 with 2 Axes>"
            ],
            "image/png": "[encoded data removed]"
          },
          "metadata": {
            "needs_background": "light"
          }
        }
      ]
    },
    {
      "cell_type": "markdown",
      "source": [
        "# Output the csv file"
      ],
      "metadata": {
        "id": "iyxz9yabGz-9"
      }
    },
    {
      "cell_type": "code",
      "source": [
        "import pandas as pd"
      ],
      "metadata": {
        "id": "lQgtDt_X-woc"
      },
      "execution_count": 26,
      "outputs": []
    },
    {
      "cell_type": "code",
      "source": [
        "prediction=model.predict(te_data)\n",
        "prediction=np.argmax(prediction,axis=1)\n",
        "prediction"
      ],
      "metadata": {
        "id": "KGQCs62dHADk",
        "colab": {
          "base_uri": "https://localhost:8080/"
        },
        "outputId": "b06ef226-20da-4bac-afd3-b35362a58756"
      },
      "execution_count": 27,
      "outputs": [
        {
          "output_type": "execute_result",
          "data": {
            "text/plain": [
              "array([0, 0, 0, 0, 0, 0, 0, 1, 1, 0, 0, 1, 1, 1, 1, 0, 0, 1, 0, 0, 1, 1,\n",
              "       1, 2, 2, 2, 2, 0, 0, 1, 0, 2, 2, 2, 2, 2, 0, 1, 1, 1, 0, 0, 2, 1,\n",
              "       2, 2, 3, 3, 3, 3, 3, 2, 3, 3, 2, 3, 3, 3, 3, 3, 3, 3, 2, 3, 3, 0,\n",
              "       3, 0, 3, 2, 0, 0, 3, 3, 3])"
            ]
          },
          "metadata": {},
          "execution_count": 27
        }
      ]
    },
    {
      "cell_type": "code",
      "source": [
        "test_label=pd.DataFrame()\n",
        "test_label['image_id']=te_filename\n",
        "test_label['labels']=prediction\n",
        "test_label=test_label.sort_values(by='image_id')\n",
        "test_label.to_csv('/content/drive/MyDrive/Colab Notebooks/2022cvdl_practice_HW2/2022cvdl_practice_HW2/2022computervision/weather_image/predict_label_v5.csv',index=False) #結果轉csv檔"
      ],
      "metadata": {
        "id": "-rtuKWmSHti9"
      },
      "execution_count": 28,
      "outputs": []
    },
    {
      "cell_type": "markdown",
      "source": [
        "# Part3: Data augmentation"
      ],
      "metadata": {
        "id": "lt3l2o5LijGa"
      }
    },
    {
      "cell_type": "code",
      "source": [
        "data_augmentation = tf.keras.Sequential([\n",
        "  layers.RandomFlip(\"horizontal_and_vertical\"),\n",
        "  layers.RandomRotation(0.5),\n",
        "])"
      ],
      "metadata": {
        "id": "PFXmZEdgiTvr"
      },
      "execution_count": 29,
      "outputs": []
    },
    {
      "cell_type": "code",
      "source": [
        "data=tr_data[1]\n",
        "data=data_augmentation(data)\n",
        "plt.imshow(data)"
      ],
      "metadata": {
        "id": "N49mNujO5FIb",
        "colab": {
          "base_uri": "https://localhost:8080/",
          "height": 286
        },
        "outputId": "13191533-c861-42c1-d7a2-d234f79bfc6a"
      },
      "execution_count": 30,
      "outputs": [
        {
          "output_type": "execute_result",
          "data": {
            "text/plain": [
              "<matplotlib.image.AxesImage at 0x7fb8840a0210>"
            ]
          },
          "metadata": {},
          "execution_count": 30
        },
        {
          "output_type": "display_data",
          "data": {
            "text/plain": [
              "<Figure size 432x288 with 1 Axes>"
            ],
            "image/png": "[encoded data removed]"
          },
          "metadata": {
            "needs_background": "light"
          }
        }
      ]
    }
  ]
}