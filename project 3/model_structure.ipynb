Model: "sequential"
_________________________________________________________________
 Layer (type)                Output Shape              Param #   
=================================================================
 Conv2d-1 (Conv2D)           (None, 300, 300, 32)      896       
                                                                 
 BatchNorm-1 (BatchNormaliza  (None, 300, 300, 32)     128       
 tion)                                                           
                                                                 
 ReLU-1 (Activation)         (None, 300, 300, 32)      0         
                                                                 
 Conv2d-2 (Conv2D)           (None, 300, 300, 32)      9248      
                                                                 
 BatchNorm-2 (BatchNormaliza  (None, 300, 300, 32)     128       
 tion)                                                           
                                                                 
 ReLU-2 (Activation)         (None, 300, 300, 32)      0         
                                                                 
 MaxPool-3 (MaxPooling2D)    (None, 150, 150, 32)      0         
                                                                 
 Conv2d-4 (Conv2D)           (None, 150, 150, 64)      18496     
                                                                 
 BatchNorm-4 (BatchNormaliza  (None, 150, 150, 64)     256       
 tion)                                                           
                                                                 
 ReLU-4 (Activation)         (None, 150, 150, 64)      0         
                                                                 
 Conv2d-5 (Conv2D)           (None, 150, 150, 64)      36928     
                                                                 
 BatchNorm-5 (BatchNormaliza  (None, 150, 150, 64)     256       
 tion)                                                           
                                                                 
 ReLU-5 (Activation)         (None, 150, 150, 64)      0         
                                                                 
 MaxPool-6 (MaxPooling2D)    (None, 75, 75, 64)        0         
                                                                 
 Conv2d-7 (Conv2D)           (None, 75, 75, 128)       73856     
                                                                 
 BatchNorm-7 (BatchNormaliza  (None, 75, 75, 128)      512       
 tion)                                                           
                                                                 
 ReLU-7 (Activation)         (None, 75, 75, 128)       0         
                                                                 
 Conv2d-8 (Conv2D)           (None, 75, 75, 128)       147584    
                                                                 
 BatchNorm-8 (BatchNormaliza  (None, 75, 75, 128)      512       
 tion)                                                           
                                                                 
 ReLU-8 (Activation)         (None, 75, 75, 128)       0         
                                                                 
 MaxPool-8 (MaxPooling2D)    (None, 37, 37, 128)       0         
                                                                 
 Flatten (Flatten)           (None, 175232)            0         
                                                                 
 fc-1 (Dense)                (None, 128)               22429824  
                                                                 
 BatchNorm-fc-1 (BatchNormal  (None, 128)              512       
 ization)                                                        
                                                                 
 Dropout-fc-1 (Dropout)      (None, 128)               0         
                                                                 
 fc-2 (Dense)                (None, 64)                8256      
                                                                 
 BatchNorm-fc-2 (BatchNormal  (None, 64)               256       
 ization)                                                        
                                                                 
 Dropout-fc-2 (Dropout)      (None, 64)                0         
                                                                 
 fc-3 (Dense)                (None, 32)                2080      
                                                                 
 BatchNorm-fc-3 (BatchNormal  (None, 32)               128       
 ization)                                                        
                                                                 
 Dropout-fc-3 (Dropout)      (None, 32)                0         
                                                                 
 prediction (Dense)          (None, 4)                 132       
                                                                 
=================================================================
Total params: 22,729,988
Trainable params: 22,728,644
Non-trainable params: 1,344
_________________________________________________________________
